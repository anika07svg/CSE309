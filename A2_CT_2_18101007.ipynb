{
  "nbformat": 4,
  "nbformat_minor": 0,
  "metadata": {
    "colab": {
      "name": "A2_CT_2_18101007.ipynb",
      "provenance": [],
      "authorship_tag": "ABX9TyNaEZQV91Xp5wS95TwJzQys",
      "include_colab_link": true
    },
    "kernelspec": {
      "name": "python3",
      "display_name": "Python 3"
    }
  },
  "cells": [
    {
      "cell_type": "markdown",
      "metadata": {
        "id": "view-in-github",
        "colab_type": "text"
      },
      "source": [
        "<a href=\"https://colab.research.google.com/github/anika07svg/CSE309/blob/master/A2_CT_2_18101007.ipynb\" target=\"_parent\"><img src=\"https://colab.research.google.com/assets/colab-badge.svg\" alt=\"Open In Colab\"/></a>"
      ]
    },
    {
      "cell_type": "code",
      "metadata": {
        "id": "BWfc62WfpA9H",
        "colab_type": "code",
        "colab": {}
      },
      "source": [
        ""
      ],
      "execution_count": null,
      "outputs": []
    },
    {
      "cell_type": "markdown",
      "metadata": {
        "id": "E-W3XgrxrDbD",
        "colab_type": "text"
      },
      "source": [
        "write a python code to determine odd or even"
      ]
    },
    {
      "cell_type": "code",
      "metadata": {
        "id": "wPxD4RXarOwl",
        "colab_type": "code",
        "colab": {
          "base_uri": "https://localhost:8080/",
          "height": 51
        },
        "outputId": "c0756e86-4f5e-4b56-c6f9-112f2a367545"
      },
      "source": [
        "a=int(input(\"Please Enter a Number: \"));\n",
        "if(a%2==0):\n",
        "  print(\"Even\")\n",
        "else:\n",
        "  print(\"Odd\")"
      ],
      "execution_count": null,
      "outputs": [
        {
          "output_type": "stream",
          "text": [
            "Please Enter a Number: 4\n",
            "Even\n"
          ],
          "name": "stdout"
        }
      ]
    },
    {
      "cell_type": "markdown",
      "metadata": {
        "id": "WRx-M0XdsJE7",
        "colab_type": "text"
      },
      "source": [
        "Answer of the qustion 2\n"
      ]
    },
    {
      "cell_type": "code",
      "metadata": {
        "id": "0D_EItE8wyPy",
        "colab_type": "code",
        "colab": {
          "base_uri": "https://localhost:8080/",
          "height": 51
        },
        "outputId": "15ccde3a-0e6e-44c3-d998-ac46821a5e2e"
      },
      "source": [
        "a=int(input())\n",
        "if(a>=81 and a<=100):\n",
        "  print(\"A+\")\n",
        "elif(a>=71 and a<=80):\n",
        "  print(\"A\")\n",
        "elif(a>=61 and a<=70):\n",
        "  print(\"B+\")\n",
        "elif(a>=51 and a<=60):\n",
        "  print(\"B\")\n",
        "elif(a>=41 and a<=50):\n",
        "  print(\"C+\")\n",
        "else:\n",
        "  print(\"F\")       \n"
      ],
      "execution_count": null,
      "outputs": [
        {
          "output_type": "stream",
          "text": [
            "82\n",
            "A+\n"
          ],
          "name": "stdout"
        }
      ]
    },
    {
      "cell_type": "markdown",
      "metadata": {
        "id": "LYOuiyctzzD3",
        "colab_type": "text"
      },
      "source": [
        "Answer of the qustion 4"
      ]
    },
    {
      "cell_type": "code",
      "metadata": {
        "id": "IwoscCiT3hZk",
        "colab_type": "code",
        "colab": {}
      },
      "source": [
        "student={\n",
        "    1:{\n",
        "        \"First name\":\"Peter\",\n",
        "        \"Last name\":\"Lee\",\n",
        "        \"Email\":\"plee@university.edu\",\n",
        "        \"year of birth\": 1992\n",
        "    },\n",
        "    2:{\n",
        "        \"First name\":\"jonathan\",\n",
        "        \"last name\":\"edwards\",\n",
        "        \"email\":\"jedwards@university.edu\",\n",
        "        \"year of birth\": 1994\n",
        "    },\n",
        "    3:{\n",
        "        \"first name\":\"Marilyn\",\n",
        "        \"last name\":\"Jhonson\",\n",
        "        \"email\":\"m\"\n",
        "    }\n",
        "}"
      ],
      "execution_count": null,
      "outputs": []
    },
    {
      "cell_type": "code",
      "metadata": {
        "id": "fbH2rIog0XMP",
        "colab_type": "code",
        "colab": {}
      },
      "source": [
        ""
      ],
      "execution_count": null,
      "outputs": []
    }
  ]
}