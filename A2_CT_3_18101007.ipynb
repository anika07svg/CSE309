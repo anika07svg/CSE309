{
  "nbformat": 4,
  "nbformat_minor": 0,
  "metadata": {
    "colab": {
      "name": "A2_CT_3_18101007.ipynb",
      "provenance": [],
      "authorship_tag": "ABX9TyMRs+puqSDwh62m+mqAsH1T",
      "include_colab_link": true
    },
    "kernelspec": {
      "name": "python3",
      "display_name": "Python 3"
    }
  },
  "cells": [
    {
      "cell_type": "markdown",
      "metadata": {
        "id": "view-in-github",
        "colab_type": "text"
      },
      "source": [
        "<a href=\"https://colab.research.google.com/github/anika07svg/CSE309/blob/master/A2_CT_3_18101007.ipynb\" target=\"_parent\"><img src=\"https://colab.research.google.com/assets/colab-badge.svg\" alt=\"Open In Colab\"/></a>"
      ]
    },
    {
      "cell_type": "code",
      "metadata": {
        "id": "TJUFqkLxOxZ9",
        "colab_type": "code",
        "colab": {}
      },
      "source": [
        ""
      ],
      "execution_count": null,
      "outputs": []
    },
    {
      "cell_type": "markdown",
      "metadata": {
        "id": "V8pe2rTZtYAR",
        "colab_type": "text"
      },
      "source": [
        "Answer to the qustion no 1"
      ]
    },
    {
      "cell_type": "code",
      "metadata": {
        "id": "rqd8x2EhtdWN",
        "colab_type": "code",
        "colab": {
          "base_uri": "https://localhost:8080/",
          "height": 102
        },
        "outputId": "cb650076-ea55-439c-88b0-38209a499d74"
      },
      "source": [
        "student1={\n",
        "    \"ID\":1,\n",
        "    \"Firstname\":\"Peter\",\n",
        "    \"Lastname\":\"Lee\",\n",
        "    \"email\":\"plee@university.edu\",\n",
        "    \"yearofbirth\":1992\n",
        "}\n",
        "\n",
        "student2={\n",
        "    \"ID\":2,\n",
        "    \"Firstname\":\"jonathan\",\n",
        "    \"Lastname\":\"edwards\",\n",
        "    \"email\":\"jedwards@university.edu\",\n",
        "    \"yearofbirth\":1994\n",
        "}\n",
        "\n",
        "student3={\n",
        "    \"ID\":3,\n",
        "    \"Firstname\":\"marilyn\",\n",
        "    \"Lastname\":\"johnson\",\n",
        "    \"email\":\"mjohnson@university.edu\",\n",
        "    \"yearofbirth\":1993\n",
        "}\n",
        "\n",
        "student4={\n",
        "    \"ID\":6,\n",
        "    \"Firstname\":\"joe\",\n",
        "    \"Lastname\":\"kim\",\n",
        "    \"email\":\"jkim@university.edu\",\n",
        "    \"yearofbirth\":1992\n",
        "}\n",
        " \n",
        "students={\n",
        "    1:student1,\n",
        "    2:student2,\n",
        "    3:student3,\n",
        "    6:student4,\n",
        "}\n",
        "\n",
        "for i in students:\n",
        "  if students[i]==\"ID\":\n",
        "    print(students[i])\n",
        "\n",
        "\n",
        "\n",
        "students[2]\n"
      ],
      "execution_count": null,
      "outputs": [
        {
          "output_type": "execute_result",
          "data": {
            "text/plain": [
              "{'Firstname': 'jonathan',\n",
              " 'ID': 2,\n",
              " 'Lastname': 'edwards',\n",
              " 'email': 'jedwards@university.edu',\n",
              " 'yearofbirth': 1994}"
            ]
          },
          "metadata": {
            "tags": []
          },
          "execution_count": 15
        }
      ]
    }
  ]
}